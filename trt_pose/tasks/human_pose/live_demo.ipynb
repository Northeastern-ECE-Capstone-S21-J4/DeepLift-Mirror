{
 "cells": [
  {
   "cell_type": "markdown",
   "metadata": {},
   "source": [
    "First, let's load the JSON file which describes the human pose task.  This is in COCO format, it is the category descriptor pulled from the annotations file.  We modify the COCO category slightly, to add a neck keypoint.  We will use this task description JSON to create a topology tensor, which is an intermediate data structure that describes the part linkages, as well as which channels in the part affinity field each linkage corresponds to."
   ]
  },
  {
   "cell_type": "code",
   "execution_count": 1,
   "metadata": {},
   "outputs": [],
   "source": [
    "import json\n",
    "import trt_pose.coco\n",
    "\n",
    "with open('human_pose.json', 'r') as f:\n",
    "    human_pose = json.load(f)\n",
    "\n",
    "topology = trt_pose.coco.coco_category_to_topology(human_pose)\n"
   ]
  },
  {
   "cell_type": "markdown",
   "metadata": {},
   "source": [
    "Next, we'll load our model.  Each model takes at least two parameters, *cmap_channels* and *paf_channels* corresponding to the number of heatmap channels\n",
    "and part affinity field channels.  The number of part affinity field channels is 2x the number of links, because each link has a channel corresponding to the\n",
    "x and y direction of the vector field for each link."
   ]
  },
  {
   "cell_type": "code",
   "execution_count": 2,
   "metadata": {},
   "outputs": [],
   "source": [
    "import trt_pose.models\n",
    "\n",
    "num_parts = len(human_pose['keypoints'])\n",
    "num_links = len(human_pose['skeleton'])\n",
    "\n",
    "model = trt_pose.models.resnet18_baseline_att(num_parts, 2 * num_links).cuda().eval()"
   ]
  },
  {
   "cell_type": "markdown",
   "metadata": {},
   "source": [
    "Next, let's load the model weights.  You will need to download these according to the table in the README."
   ]
  },
  {
   "cell_type": "code",
   "execution_count": 3,
   "metadata": {},
   "outputs": [
    {
     "data": {
      "text/plain": [
       "<All keys matched successfully>"
      ]
     },
     "execution_count": 3,
     "metadata": {},
     "output_type": "execute_result"
    }
   ],
   "source": [
    "import torch\n",
    "\n",
    "MODEL_WEIGHTS = '/container_share/resnet18_baseline_att_224x224_A_epoch_249.pth'\n",
    "\n",
    "model.load_state_dict(torch.load(MODEL_WEIGHTS))"
   ]
  },
  {
   "cell_type": "markdown",
   "metadata": {},
   "source": [
    "In order to optimize with TensorRT using the python library *torch2trt* we'll also need to create some example data.  The dimensions\n",
    "of this data should match the dimensions that the network was trained with.  Since we're using the resnet18 variant that was trained on\n",
    "an input resolution of 224x224, we set the width and height to these dimensions."
   ]
  },
  {
   "cell_type": "code",
   "execution_count": 4,
   "metadata": {},
   "outputs": [],
   "source": [
    "WIDTH = 224\n",
    "HEIGHT = 224\n",
    "\n",
    "data = torch.zeros((1, 3, HEIGHT, WIDTH)).cuda()"
   ]
  },
  {
   "cell_type": "markdown",
   "metadata": {},
   "source": [
    "Next, we'll use [torch2trt](https://github.com/NVIDIA-AI-IOT/torch2trt) to optimize the model.  We'll enable fp16_mode to allow optimizations to use reduced half precision."
   ]
  },
  {
   "cell_type": "code",
   "execution_count": 5,
   "metadata": {},
   "outputs": [],
   "source": [
    "import torch2trt\n",
    "\n",
    "# model_trt = torch2trt.torch2trt(model, [data], fp16_mode=True, max_workspace_size=1<<25)"
   ]
  },
  {
   "cell_type": "markdown",
   "metadata": {},
   "source": [
    "The optimized model may be saved so that we do not need to perform optimization again, we can just load the model.  Please note that TensorRT has device specific optimizations, so you can only use an optimized model on similar platforms."
   ]
  },
  {
   "cell_type": "code",
   "execution_count": 6,
   "metadata": {},
   "outputs": [],
   "source": [
    "OPTIMIZED_MODEL = 'resnet18_baseline_att_224x224_A_epoch_249_trt.pth'\n",
    "\n",
    "# torch.save(model_trt.state_dict(), OPTIMIZED_MODEL)"
   ]
  },
  {
   "cell_type": "markdown",
   "metadata": {},
   "source": [
    "We could then load the saved model using *torch2trt* as follows."
   ]
  },
  {
   "cell_type": "code",
   "execution_count": 7,
   "metadata": {},
   "outputs": [
    {
     "data": {
      "text/plain": [
       "<All keys matched successfully>"
      ]
     },
     "execution_count": 7,
     "metadata": {},
     "output_type": "execute_result"
    }
   ],
   "source": [
    "from torch2trt import TRTModule\n",
    "\n",
    "model_trt = TRTModule()\n",
    "model_trt.load_state_dict(torch.load(OPTIMIZED_MODEL))"
   ]
  },
  {
   "cell_type": "markdown",
   "metadata": {},
   "source": [
    "We can benchmark the model in FPS with the following code"
   ]
  },
  {
   "cell_type": "code",
   "execution_count": 8,
   "metadata": {},
   "outputs": [],
   "source": [
    "# import time\n",
    "\n",
    "# t0 = time.time()\n",
    "# torch.cuda.current_stream().synchronize()\n",
    "# for i in range(50):\n",
    "#     y = model_trt(data)\n",
    "# torch.cuda.current_stream().synchronize()\n",
    "# t1 = time.time()\n",
    "\n",
    "# print(50.0 / (t1 - t0))"
   ]
  },
  {
   "cell_type": "markdown",
   "metadata": {},
   "source": [
    "Next, let's define a function that will preprocess the image, which is originally in BGR8 / HWC format."
   ]
  },
  {
   "cell_type": "code",
   "execution_count": 9,
   "metadata": {},
   "outputs": [],
   "source": [
    "import cv2\n",
    "import torchvision.transforms as transforms\n",
    "import PIL.Image\n",
    "\n",
    "mean = torch.Tensor([0.485, 0.456, 0.406]).cuda()\n",
    "std = torch.Tensor([0.229, 0.224, 0.225]).cuda()\n",
    "device = torch.device('cuda')\n",
    "\n",
    "def preprocess(image):\n",
    "    global device\n",
    "    device = torch.device('cuda')\n",
    "    image = cv2.cvtColor(image, cv2.COLOR_BGR2RGB)\n",
    "    image = PIL.Image.fromarray(image)\n",
    "    image = transforms.functional.to_tensor(image).to(device)\n",
    "    image.sub_(mean[:, None, None]).div_(std[:, None, None])\n",
    "    return image[None, ...]"
   ]
  },
  {
   "cell_type": "markdown",
   "metadata": {},
   "source": [
    "Next, we'll define two callable classes that will be used to parse the objects from the neural network, as well as draw the parsed objects on an image."
   ]
  },
  {
   "cell_type": "code",
   "execution_count": 10,
   "metadata": {},
   "outputs": [],
   "source": [
    "import cv2\n",
    "\n",
    "\n",
    "class DrawObjects(object):\n",
    "    \n",
    "    def __init__(self, topology):\n",
    "        self.topology = topology\n",
    "        \n",
    "    def __call__(self, image, object_counts, objects, normalized_peaks, color=(0, 255, 0)):\n",
    "        topology = self.topology\n",
    "        height = image.shape[0]\n",
    "        width = image.shape[1]\n",
    "        \n",
    "        K = topology.shape[0]\n",
    "        count = int(object_counts[0])\n",
    "        K = topology.shape[0]\n",
    "        for i in range(count):\n",
    "            obj = objects[0][i]\n",
    "            C = obj.shape[0]\n",
    "            for j in range(C):\n",
    "                k = int(obj[j])\n",
    "                if k >= 0:\n",
    "                    peak = normalized_peaks[0][j][k]\n",
    "                    x = round(float(peak[1]) * width)\n",
    "                    y = round(float(peak[0]) * height)\n",
    "                    cv2.circle(image, (x, y), 3, color, 2)\n",
    "\n",
    "            for k in range(K):\n",
    "                c_a = topology[k][2]\n",
    "                c_b = topology[k][3]\n",
    "                if obj[c_a] >= 0 and obj[c_b] >= 0:\n",
    "                    peak0 = normalized_peaks[0][c_a][obj[c_a]]\n",
    "                    peak1 = normalized_peaks[0][c_b][obj[c_b]]\n",
    "                    x0 = round(float(peak0[1]) * width)\n",
    "                    y0 = round(float(peak0[0]) * height)\n",
    "                    x1 = round(float(peak1[1]) * width)\n",
    "                    y1 = round(float(peak1[0]) * height)\n",
    "                    cv2.line(image, (x0, y0), (x1, y1), color, 2)"
   ]
  },
  {
   "cell_type": "code",
   "execution_count": 11,
   "metadata": {},
   "outputs": [],
   "source": [
    "# from trt_pose.draw_objects import DrawObjects\n",
    "from trt_pose.parse_objects import ParseObjects\n",
    "\n",
    "parse_objects = ParseObjects(topology)\n",
    "draw_objects = DrawObjects(topology)"
   ]
  },
  {
   "cell_type": "markdown",
   "metadata": {},
   "source": [
    "Assuming you're using NVIDIA Jetson, you can use the [jetcam](https://github.com/NVIDIA-AI-IOT/jetcam) package to create an easy to use camera that will produce images in BGR8/HWC format.\n",
    "\n",
    "If you're not on Jetson, you may need to adapt the code below."
   ]
  },
  {
   "cell_type": "code",
   "execution_count": 12,
   "metadata": {},
   "outputs": [],
   "source": [
    "from jetcam.usb_camera import USBCamera\n",
    "# from jetcam.csi_camera import CSICamera\n",
    "from jetcam.utils import bgr8_to_jpeg\n",
    "\n",
    "camera = USBCamera(width=WIDTH, height=HEIGHT, capture_fps=30, capture_device=0)\n",
    "# camera = CSICamera(width=WIDTH, height=HEIGHT, capture_fps=30)\n",
    "\n",
    "camera.running = True"
   ]
  },
  {
   "cell_type": "markdown",
   "metadata": {},
   "source": [
    "Next, we'll create a widget which will be used to display the camera feed with visualizations."
   ]
  },
  {
   "cell_type": "code",
   "execution_count": 13,
   "metadata": {
    "scrolled": true,
    "tags": []
   },
   "outputs": [
    {
     "data": {
      "application/vnd.jupyter.widget-view+json": {
       "model_id": "d0f748a2fd514e05b00822aead1fbb14",
       "version_major": 2,
       "version_minor": 0
      },
      "text/plain": [
       "Image(value=b'', format='jpeg')"
      ]
     },
     "metadata": {},
     "output_type": "display_data"
    }
   ],
   "source": [
    "import ipywidgets\n",
    "from IPython.display import display, clear_output\n",
    "\n",
    "image_w = ipywidgets.Image(format='jpeg')\n",
    "\n",
    "display(image_w)"
   ]
  },
  {
   "cell_type": "markdown",
   "metadata": {},
   "source": [
    "Finally, we'll define the main execution loop.  This will perform the following steps\n",
    "\n",
    "1.  Preprocess the camera image\n",
    "2.  Execute the neural network\n",
    "3.  Parse the objects from the neural network output\n",
    "4.  Draw the objects onto the camera image\n",
    "5.  Convert the image to JPEG format and stream to the display widget"
   ]
  },
  {
   "cell_type": "code",
   "execution_count": 14,
   "metadata": {},
   "outputs": [],
   "source": [
    "max_thigh_length = 0\n",
    "\n",
    "def depth_test(keypoints, squat_threshhold=.1):\n",
    "    global max_thigh_length\n",
    "    standing_threshold = 0.2\n",
    "    result = dict()\n",
    "    result['is_squat'] = False\n",
    "    result['is_standing'] = False\n",
    "    \n",
    "    if float(keypoints['left_hip'][0]) == 0.0 or float(keypoints['left_knee'][0]) == 0.0 or float(keypoints['right_hip'][0]) == 0.0  or float(keypoints['right_knee'][0]) == 0.0:\n",
    "        return result\n",
    "    elif float(keypoints['left_hip'][0]) + squat_threshhold > float(keypoints['left_knee'][0]) \\\n",
    "        and float(keypoints['right_hip'][0]) + squat_threshhold > float(keypoints['right_knee'][0]):\n",
    "        result['is_squat'] = True\n",
    "        \n",
    "    curr_thigh_length = float(keypoints['left_knee'][0]) - float(keypoints['left_hip'][0])\n",
    "    if curr_thigh_length > max_thigh_length:\n",
    "        max_thigh_length = curr_thigh_length\n",
    "        \n",
    "    if curr_thigh_length > max_thigh_length - standing_threshold:\n",
    "        result['is_standing'] = True\n",
    "    \n",
    "    return result"
   ]
  },
  {
   "cell_type": "code",
   "execution_count": 15,
   "metadata": {
    "scrolled": true
   },
   "outputs": [],
   "source": [
    "\n",
    "torch.set_printoptions(threshold=10_000)\n",
    "import json\n",
    "import datetime as datetime\n",
    "import time\n",
    "frame_num = 0\n",
    "\n",
    "def print_to_file(keypoints, dump=True):\n",
    "    \n",
    "    now = time.time()\n",
    "    file_str = \"./keypoints/\" + str(now) + \"_\" + str(frame_num) + \".json\"\n",
    "    \n",
    "    with open(file_str, \"w\") as f:\n",
    "        json_keypts = {}\n",
    "        for i, point in enumerate(keypoints):\n",
    "\n",
    "            #convert to numpy to access points\n",
    "            point = point.numpy()\n",
    "            body_part = human_pose[\"keypoints\"][i]\n",
    "            json_keypts[body_part] = [str(point[0]), str(point[1])]\n",
    "\n",
    "    if dump:\n",
    "        json.dump(json_keypts, f, indent = 6)\n",
    "    return json_keypts\n",
    "        \n",
    "# Important: if width and height are wrong (not equal to image.shape, video will not be written)\n",
    "width = 224\n",
    "height= 224\n",
    "fourcc = cv2.VideoWriter_fourcc(*'MJPG')\n",
    "out = cv2.VideoWriter(\"./output.avi\", fourcc, 30, (width, height))\n",
    "\n",
    "def execute(change):\n",
    "    global frame_num \n",
    "    frame_num = frame_num + 1\n",
    "    image = change['new']\n",
    "    data = preprocess(image)\n",
    "    cmap, paf = model_trt(data)\n",
    "    cmap, paf = cmap.detach().cpu(), paf.detach().cpu()\n",
    "    counts, objects, peaks = parse_objects(cmap, paf)#, cmap_threshold=0.15, link_threshold=0.15)\n",
    "\n",
    "    keypoints = []\n",
    "    for keypoint in peaks[0]:\n",
    "        keypoints.append(keypoint[0])\n",
    "        \n",
    "    keypoints = print_to_file(keypoints, dump=False)\n",
    "    analytics = depth_test(keypoints)\n",
    "    print(f\"Squat: {analytics['is_squat']} KP: {keypoints['left_hip'][0]},{keypoints['left_knee'][0]},{keypoints['right_hip'][0]},{keypoints['right_knee'][0]}\", end='\\r')\n",
    "    \n",
    "    if analytics['is_squat']:\n",
    "        color = (0, 255, 0)\n",
    "    elif analytics['is_standing']:\n",
    "        color = (0, 0, 255)\n",
    "    else:\n",
    "        color = (0, 255, 255)\n",
    "        \n",
    "    draw_objects(image, counts, objects, peaks, color)\n",
    "#     image = cv2.rotate(image, cv2.cv2.ROTATE_90_COUNTERCLOCKWISE)\n",
    "    image_w.value = bgr8_to_jpeg(image[:, ::-1, :])\n",
    "    \n",
    "    #write to video file \n",
    "#     frame = cv2.imread(image[:, ::-1, :])\n",
    "    out.write(image[:, ::-1, :])\n",
    "    \n",
    "    \n",
    "    clear_output(wait=True)"
   ]
  },
  {
   "cell_type": "markdown",
   "metadata": {},
   "source": [
    "If we call the cell below it will execute the function once on the current camera frame."
   ]
  },
  {
   "cell_type": "code",
   "execution_count": 16,
   "metadata": {
    "scrolled": false
   },
   "outputs": [],
   "source": [
    "# execute({'new': camera.value})"
   ]
  },
  {
   "cell_type": "markdown",
   "metadata": {},
   "source": [
    "Call the cell below to attach the execution function to the camera's internal value.  This will cause the execute function to be called whenever a new camera frame is received."
   ]
  },
  {
   "cell_type": "code",
   "execution_count": 17,
   "metadata": {},
   "outputs": [],
   "source": [
    "camera.observe(execute, names='value')"
   ]
  },
  {
   "cell_type": "markdown",
   "metadata": {},
   "source": [
    "Call the cell below to unattach the camera frame callbacks."
   ]
  },
  {
   "cell_type": "code",
   "execution_count": 18,
   "metadata": {},
   "outputs": [],
   "source": [
    "# camera.unobserve_all()\n",
    "# out.release()\n",
    "# test code to upload to s3\n",
    "# import boto3\n",
    "\n",
    "# s3 = boto3.resource('s3')\n",
    "# s3.meta.client.upload_file('output.avi', 'videos-bucket-0001', 'test_video_alt.avi')"
   ]
  }
 ],
 "metadata": {
  "kernelspec": {
   "display_name": "Python 3",
   "language": "python",
   "name": "python3"
  },
  "language_info": {
   "codemirror_mode": {
    "name": "ipython",
    "version": 3
   },
   "file_extension": ".py",
   "mimetype": "text/x-python",
   "name": "python",
   "nbconvert_exporter": "python",
   "pygments_lexer": "ipython3",
   "version": "3.6.9"
  }
 },
 "nbformat": 4,
 "nbformat_minor": 4
}
